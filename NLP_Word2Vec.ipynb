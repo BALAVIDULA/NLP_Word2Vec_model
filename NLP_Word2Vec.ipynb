{
  "nbformat": 4,
  "nbformat_minor": 0,
  "metadata": {
    "colab": {
      "provenance": []
    },
    "kernelspec": {
      "name": "python3",
      "display_name": "Python 3"
    },
    "language_info": {
      "name": "python"
    }
  },
  "cells": [
    {
      "cell_type": "code",
      "execution_count": 1,
      "metadata": {
        "colab": {
          "base_uri": "https://localhost:8080/"
        },
        "id": "bh4K_jhg0rHe",
        "outputId": "09fe53e8-2475-4963-9020-d14bb8af929f"
      },
      "outputs": [
        {
          "output_type": "stream",
          "name": "stderr",
          "text": [
            "[nltk_data] Downloading package punkt to /root/nltk_data...\n",
            "[nltk_data]   Unzipping tokenizers/punkt.zip.\n"
          ]
        },
        {
          "output_type": "execute_result",
          "data": {
            "text/plain": [
              "True"
            ]
          },
          "metadata": {},
          "execution_count": 1
        }
      ],
      "source": [
        "import nltk\n",
        "nltk.download('punkt')\n"
      ]
    },
    {
      "cell_type": "code",
      "source": [
        "import nltk\n",
        "nltk.download('stopwords')"
      ],
      "metadata": {
        "colab": {
          "base_uri": "https://localhost:8080/"
        },
        "id": "6fM3wuB50zew",
        "outputId": "31b26e6e-650d-40a2-fd43-400818adac56"
      },
      "execution_count": 2,
      "outputs": [
        {
          "output_type": "stream",
          "name": "stderr",
          "text": [
            "[nltk_data] Downloading package stopwords to /root/nltk_data...\n",
            "[nltk_data]   Unzipping corpora/stopwords.zip.\n"
          ]
        },
        {
          "output_type": "execute_result",
          "data": {
            "text/plain": [
              "True"
            ]
          },
          "metadata": {},
          "execution_count": 2
        }
      ]
    },
    {
      "cell_type": "code",
      "source": [
        "import gensim\n",
        "import re\n",
        "from nltk.tokenize import sent_tokenize, word_tokenize\n",
        "from nltk.corpus import stopwords\n",
        "from gensim.models import Word2Vec\n",
        "\n",
        "# Sample paragraph\n",
        "paragraph = \"\"\"\n",
        "Smiling seems to have a favorable influence upon others and makes one likable and more approachable.[4] In the social context, smiling and laughter have different functions in the order of sequence in social situations:\n",
        "Smiling is sometimes a pre-laughing device and is a common pattern for paving the way to laughter;\n",
        "Smiling can be used as a response to laughter.[5]\n",
        "Smiling is a signaling system that evolved from a need to communicate information in many different forms. One of these is an advertisement of sexual interest. Female smiles are appealing to heterosexual males, increasing physical attractiveness and enhancing sex appeal. However, recent research indicates a man's smile may or may not be most effective in attracting heterosexual women, and that facial expressions such as pride or even shame might be more effective. The researchers did not explicitly study the role of smiles in other sexual preferences. Perceive smiling as a negative expression and consider it unwelcoming. Too much smiling can be viewed as a sign of shallowness or dishonesty.[8] In some parts of Asia, people may smile when they are embarrassed or in emotional pain. Some people may smile at others to indicate a friendly greeting. A smile may be reserved for close friends and family members. Many people in the former Soviet Union area consider smiling at strangers in public to be unusual and even suspicious behavior,[9] or even a sign of stupidity.[10]\n",
        "Systematic large cross-cultural study on social perception of smiling individuals[11] documented that in some cultures a smiling individual may be perceived as less intelligent than the same non-smiling individual (and that cultural uncertainty avoidance may explain these differences). Furthermore, the same study showed that corruption at the societal level may undermine the prosocial perception of smiling—in societies with high corruption indicators, trust toward smiling individuals is reduced.\n",
        "Happiness is a positive and pleasant emotion, ranging from contentment to intense joy. Moments of happiness may be triggered by positive life experiences or thoughts, but sometimes it may arise from no obvious cause. The level of happiness for longer periods of time is more strongly correlated with levels of life satisfaction, subjective well-being, flourishing and eudaimonia. In common usage, the word happy can be an appraisal of those measures themselves or as a shorthand for a \"source\" of happiness (for example, \"find happiness in life\" as in finding the meaning in life). As with any emotion, the precise definition of happiness has been a perennial debate in philosophy.\n",
        "n the other hand, there have been many studies that have found genetics to be a key part in predicting and understanding happiness in humans.[56] In a review article discussing many studies on genetics and happiness, they discussed the common findings.[57] The author found an important factor that has affected scientist findings this being how happiness is measured. For example, in certain studies when subjective wellbeing is measured as a trait heredity is found to be higher, about 70 to 90 percent. In another study, 11,500 unrelated genotypes were studied, and the conclusion was the heritability was only 12 to 18 percent. Overall, this article found the common percent of heredity was about 20 to 50 percent.[58]\n",
        "\"\"\"\n",
        "\n",
        "# Preprocess the paragraph\n",
        "paragraph = paragraph.lower()  # Convert to lowercase\n",
        "paragraph = re.sub(r'\\s+', ' ', paragraph)  # Remove extra spaces\n",
        "paragraph = re.sub(r'[^a-zA-Z\\s]', '', paragraph)  # Remove special characters\n",
        "\n",
        "print(\"preprocesed paragraph : \",paragraph)"
      ],
      "metadata": {
        "colab": {
          "base_uri": "https://localhost:8080/"
        },
        "id": "oUX_dSHf0zhn",
        "outputId": "dee9956e-42e0-4f70-dd62-ae5d1bbe1006"
      },
      "execution_count": 3,
      "outputs": [
        {
          "output_type": "stream",
          "name": "stdout",
          "text": [
            "preprocesed paragraph :   smiling seems to have a favorable influence upon others and makes one likable and more approachable in the social context smiling and laughter have different functions in the order of sequence in social situations smiling is sometimes a prelaughing device and is a common pattern for paving the way to laughter smiling can be used as a response to laughter smiling is a signaling system that evolved from a need to communicate information in many different forms one of these is an advertisement of sexual interest female smiles are appealing to heterosexual males increasing physical attractiveness and enhancing sex appeal however recent research indicates a mans smile may or may not be most effective in attracting heterosexual women and that facial expressions such as pride or even shame might be more effective the researchers did not explicitly study the role of smiles in other sexual preferences perceive smiling as a negative expression and consider it unwelcoming too much smiling can be viewed as a sign of shallowness or dishonesty in some parts of asia people may smile when they are embarrassed or in emotional pain some people may smile at others to indicate a friendly greeting a smile may be reserved for close friends and family members many people in the former soviet union area consider smiling at strangers in public to be unusual and even suspicious behavior or even a sign of stupidity systematic large crosscultural study on social perception of smiling individuals documented that in some cultures a smiling individual may be perceived as less intelligent than the same nonsmiling individual and that cultural uncertainty avoidance may explain these differences furthermore the same study showed that corruption at the societal level may undermine the prosocial perception of smilingin societies with high corruption indicators trust toward smiling individuals is reduced happiness is a positive and pleasant emotion ranging from contentment to intense joy moments of happiness may be triggered by positive life experiences or thoughts but sometimes it may arise from no obvious cause the level of happiness for longer periods of time is more strongly correlated with levels of life satisfaction subjective wellbeing flourishing and eudaimonia in common usage the word happy can be an appraisal of those measures themselves or as a shorthand for a source of happiness for example find happiness in life as in finding the meaning in life as with any emotion the precise definition of happiness has been a perennial debate in philosophy n the other hand there have been many studies that have found genetics to be a key part in predicting and understanding happiness in humans in a review article discussing many studies on genetics and happiness they discussed the common findings the author found an important factor that has affected scientist findings this being how happiness is measured for example in certain studies when subjective wellbeing is measured as a trait heredity is found to be higher about  to  percent in another study  unrelated genotypes were studied and the conclusion was the heritability was only  to  percent overall this article found the common percent of heredity was about  to  percent \n"
          ]
        }
      ]
    },
    {
      "cell_type": "code",
      "source": [
        "# Tokenize sentences\n",
        "sentences = sent_tokenize(paragraph)\n",
        "print(\" Tokenized sentences \", sentences)\n"
      ],
      "metadata": {
        "colab": {
          "base_uri": "https://localhost:8080/"
        },
        "id": "vTfpe73n0zke",
        "outputId": "98ade045-2adf-4011-de3f-831292d1a067"
      },
      "execution_count": 4,
      "outputs": [
        {
          "output_type": "stream",
          "name": "stdout",
          "text": [
            " Tokenized sentences  [' smiling seems to have a favorable influence upon others and makes one likable and more approachable in the social context smiling and laughter have different functions in the order of sequence in social situations smiling is sometimes a prelaughing device and is a common pattern for paving the way to laughter smiling can be used as a response to laughter smiling is a signaling system that evolved from a need to communicate information in many different forms one of these is an advertisement of sexual interest female smiles are appealing to heterosexual males increasing physical attractiveness and enhancing sex appeal however recent research indicates a mans smile may or may not be most effective in attracting heterosexual women and that facial expressions such as pride or even shame might be more effective the researchers did not explicitly study the role of smiles in other sexual preferences perceive smiling as a negative expression and consider it unwelcoming too much smiling can be viewed as a sign of shallowness or dishonesty in some parts of asia people may smile when they are embarrassed or in emotional pain some people may smile at others to indicate a friendly greeting a smile may be reserved for close friends and family members many people in the former soviet union area consider smiling at strangers in public to be unusual and even suspicious behavior or even a sign of stupidity systematic large crosscultural study on social perception of smiling individuals documented that in some cultures a smiling individual may be perceived as less intelligent than the same nonsmiling individual and that cultural uncertainty avoidance may explain these differences furthermore the same study showed that corruption at the societal level may undermine the prosocial perception of smilingin societies with high corruption indicators trust toward smiling individuals is reduced happiness is a positive and pleasant emotion ranging from contentment to intense joy moments of happiness may be triggered by positive life experiences or thoughts but sometimes it may arise from no obvious cause the level of happiness for longer periods of time is more strongly correlated with levels of life satisfaction subjective wellbeing flourishing and eudaimonia in common usage the word happy can be an appraisal of those measures themselves or as a shorthand for a source of happiness for example find happiness in life as in finding the meaning in life as with any emotion the precise definition of happiness has been a perennial debate in philosophy n the other hand there have been many studies that have found genetics to be a key part in predicting and understanding happiness in humans in a review article discussing many studies on genetics and happiness they discussed the common findings the author found an important factor that has affected scientist findings this being how happiness is measured for example in certain studies when subjective wellbeing is measured as a trait heredity is found to be higher about  to  percent in another study  unrelated genotypes were studied and the conclusion was the heritability was only  to  percent overall this article found the common percent of heredity was about  to  percent']\n"
          ]
        }
      ]
    },
    {
      "cell_type": "code",
      "source": [
        "# Tokenize words and remove stop words\n",
        "stop_words = set(stopwords.words('english'))\n",
        "tokenized_sentences = [word_tokenize(sentence) for sentence in sentences]\n",
        "filtered_sentences = [[word for word in tokens if word not in stop_words] for tokens in tokenized_sentences]\n",
        "\n",
        "print(\"filtered sentences \", filtered_sentences)"
      ],
      "metadata": {
        "colab": {
          "base_uri": "https://localhost:8080/"
        },
        "id": "Se2QOqY00znW",
        "outputId": "1b4cb96e-3199-40f1-b279-9512824a16a6"
      },
      "execution_count": 5,
      "outputs": [
        {
          "output_type": "stream",
          "name": "stdout",
          "text": [
            "filtered sentences  [['smiling', 'seems', 'favorable', 'influence', 'upon', 'others', 'makes', 'one', 'likable', 'approachable', 'social', 'context', 'smiling', 'laughter', 'different', 'functions', 'order', 'sequence', 'social', 'situations', 'smiling', 'sometimes', 'prelaughing', 'device', 'common', 'pattern', 'paving', 'way', 'laughter', 'smiling', 'used', 'response', 'laughter', 'smiling', 'signaling', 'system', 'evolved', 'need', 'communicate', 'information', 'many', 'different', 'forms', 'one', 'advertisement', 'sexual', 'interest', 'female', 'smiles', 'appealing', 'heterosexual', 'males', 'increasing', 'physical', 'attractiveness', 'enhancing', 'sex', 'appeal', 'however', 'recent', 'research', 'indicates', 'mans', 'smile', 'may', 'may', 'effective', 'attracting', 'heterosexual', 'women', 'facial', 'expressions', 'pride', 'even', 'shame', 'might', 'effective', 'researchers', 'explicitly', 'study', 'role', 'smiles', 'sexual', 'preferences', 'perceive', 'smiling', 'negative', 'expression', 'consider', 'unwelcoming', 'much', 'smiling', 'viewed', 'sign', 'shallowness', 'dishonesty', 'parts', 'asia', 'people', 'may', 'smile', 'embarrassed', 'emotional', 'pain', 'people', 'may', 'smile', 'others', 'indicate', 'friendly', 'greeting', 'smile', 'may', 'reserved', 'close', 'friends', 'family', 'members', 'many', 'people', 'former', 'soviet', 'union', 'area', 'consider', 'smiling', 'strangers', 'public', 'unusual', 'even', 'suspicious', 'behavior', 'even', 'sign', 'stupidity', 'systematic', 'large', 'crosscultural', 'study', 'social', 'perception', 'smiling', 'individuals', 'documented', 'cultures', 'smiling', 'individual', 'may', 'perceived', 'less', 'intelligent', 'nonsmiling', 'individual', 'cultural', 'uncertainty', 'avoidance', 'may', 'explain', 'differences', 'furthermore', 'study', 'showed', 'corruption', 'societal', 'level', 'may', 'undermine', 'prosocial', 'perception', 'smilingin', 'societies', 'high', 'corruption', 'indicators', 'trust', 'toward', 'smiling', 'individuals', 'reduced', 'happiness', 'positive', 'pleasant', 'emotion', 'ranging', 'contentment', 'intense', 'joy', 'moments', 'happiness', 'may', 'triggered', 'positive', 'life', 'experiences', 'thoughts', 'sometimes', 'may', 'arise', 'obvious', 'cause', 'level', 'happiness', 'longer', 'periods', 'time', 'strongly', 'correlated', 'levels', 'life', 'satisfaction', 'subjective', 'wellbeing', 'flourishing', 'eudaimonia', 'common', 'usage', 'word', 'happy', 'appraisal', 'measures', 'shorthand', 'source', 'happiness', 'example', 'find', 'happiness', 'life', 'finding', 'meaning', 'life', 'emotion', 'precise', 'definition', 'happiness', 'perennial', 'debate', 'philosophy', 'n', 'hand', 'many', 'studies', 'found', 'genetics', 'key', 'part', 'predicting', 'understanding', 'happiness', 'humans', 'review', 'article', 'discussing', 'many', 'studies', 'genetics', 'happiness', 'discussed', 'common', 'findings', 'author', 'found', 'important', 'factor', 'affected', 'scientist', 'findings', 'happiness', 'measured', 'example', 'certain', 'studies', 'subjective', 'wellbeing', 'measured', 'trait', 'heredity', 'found', 'higher', 'percent', 'another', 'study', 'unrelated', 'genotypes', 'studied', 'conclusion', 'heritability', 'percent', 'overall', 'article', 'found', 'common', 'percent', 'heredity', 'percent']]\n"
          ]
        }
      ]
    },
    {
      "cell_type": "code",
      "source": [
        "\n",
        "# Train Word2Vec model\n",
        "model = Word2Vec(filtered_sentences, min_count=1)\n"
      ],
      "metadata": {
        "id": "6Rl3Unt50zpu"
      },
      "execution_count": 6,
      "outputs": []
    },
    {
      "cell_type": "code",
      "source": [
        "\n",
        "# Check the vector for a particular word\n",
        "vector_social = model.wv['social']\n",
        "print(\"Vector for 'social':\", vector_social)\n"
      ],
      "metadata": {
        "colab": {
          "base_uri": "https://localhost:8080/"
        },
        "id": "GaLGhcls0zsP",
        "outputId": "3c9bbcb9-18f1-43a8-98c6-ba162a9fab22"
      },
      "execution_count": 7,
      "outputs": [
        {
          "output_type": "stream",
          "name": "stdout",
          "text": [
            "Vector for 'social': [ 7.0841699e-03 -1.5429538e-03  7.9534426e-03 -9.4980951e-03\n",
            " -8.0276262e-03 -6.7074862e-03 -3.9953627e-03  5.0260858e-03\n",
            " -3.8381061e-03 -8.3412090e-03  8.4020942e-03 -3.7891965e-03\n",
            "  8.6241560e-03 -4.8654708e-03  3.9188662e-03  4.9239942e-03\n",
            "  2.3828086e-03 -2.8369257e-03  2.8492659e-03 -8.3145564e-03\n",
            " -2.7527725e-03 -2.5903967e-03  7.2460975e-03 -3.5000534e-03\n",
            " -6.6140229e-03  4.3716249e-03 -4.8666017e-04 -3.6628486e-03\n",
            "  6.8649319e-03  3.8971310e-03 -3.8699941e-03  8.0732006e-04\n",
            "  9.1379285e-03  7.7557187e-03  6.3614543e-03  4.7149309e-03\n",
            "  2.4045627e-03 -1.8537956e-03 -6.3787783e-03 -3.8438450e-04\n",
            " -1.5834162e-03 -6.1299326e-04 -6.2627057e-03  7.4280589e-03\n",
            " -6.5660528e-03 -7.2430489e-03 -2.7619540e-03 -1.5169195e-03\n",
            " -7.5908550e-03  7.0780341e-04 -5.2994224e-03 -1.2865628e-03\n",
            " -7.3601417e-03  1.9526911e-03  3.2687758e-03  1.7130093e-05\n",
            " -5.4360200e-03 -1.7341978e-03  7.0637623e-03  3.7762360e-03\n",
            " -8.8983951e-03 -3.3975800e-03  2.3637130e-03  2.1414061e-03\n",
            " -9.4855521e-03  4.5913141e-03 -8.6223381e-03 -7.3386547e-03\n",
            "  3.4568254e-03 -3.4179841e-03  3.5256173e-03  8.8994615e-03\n",
            " -3.5558108e-03  9.3206130e-03  1.7543840e-03  9.8780273e-03\n",
            "  5.7432996e-03 -9.1646165e-03 -3.3431591e-03  6.5341964e-03\n",
            "  5.6132232e-03  8.7188808e-03  6.9087576e-03  8.0899447e-03\n",
            " -9.8339077e-03  4.2846580e-03 -5.0109485e-03  3.5385222e-03\n",
            "  6.0960669e-03  4.4033700e-03  7.5637945e-03  1.5598580e-03\n",
            " -1.2870821e-03  5.7718693e-03 -5.5957958e-03  6.4697328e-05\n",
            "  9.4957883e-03 -5.4966393e-03  3.8208386e-03 -8.1119416e-03]\n"
          ]
        }
      ]
    },
    {
      "cell_type": "code",
      "source": [
        "\n",
        "# Find the most similar words related to 'smiling'\n",
        "similar_words_social = model.wv.most_similar('social')\n",
        "print(\"Most similar words to 'social':\", similar_words_social)"
      ],
      "metadata": {
        "colab": {
          "base_uri": "https://localhost:8080/"
        },
        "id": "RO_W5ggv0zvO",
        "outputId": "1ac8999d-784b-449a-e13a-164b146dc8af"
      },
      "execution_count": 8,
      "outputs": [
        {
          "output_type": "stream",
          "name": "stdout",
          "text": [
            "Most similar words to 'social': [('friendly', 0.2689521014690399), ('finding', 0.23637039959430695), ('satisfaction', 0.21655547618865967), ('overall', 0.20973874628543854), ('ranging', 0.20945055782794952), ('philosophy', 0.20083804428577423), ('trust', 0.19608555734157562), ('perceived', 0.1790233999490738), ('perennial', 0.17813840508460999), ('thoughts', 0.16217444837093353)]\n"
          ]
        }
      ]
    },
    {
      "cell_type": "code",
      "source": [],
      "metadata": {
        "id": "o3mLPsIs0zyn"
      },
      "execution_count": 8,
      "outputs": []
    },
    {
      "cell_type": "code",
      "source": [],
      "metadata": {
        "id": "Mtd-l1GD0z1a"
      },
      "execution_count": 8,
      "outputs": []
    },
    {
      "cell_type": "code",
      "source": [],
      "metadata": {
        "id": "k69SwVTu0z4W"
      },
      "execution_count": 8,
      "outputs": []
    },
    {
      "cell_type": "code",
      "source": [],
      "metadata": {
        "id": "hPly2Ucq0z89"
      },
      "execution_count": 8,
      "outputs": []
    },
    {
      "cell_type": "code",
      "source": [],
      "metadata": {
        "id": "_ok1oOA50z_5"
      },
      "execution_count": 8,
      "outputs": []
    },
    {
      "cell_type": "code",
      "source": [],
      "metadata": {
        "id": "gsBLZjJH00C2"
      },
      "execution_count": 8,
      "outputs": []
    },
    {
      "cell_type": "code",
      "source": [],
      "metadata": {
        "id": "XiZsJxTV00F9"
      },
      "execution_count": 8,
      "outputs": []
    },
    {
      "cell_type": "code",
      "source": [],
      "metadata": {
        "id": "XByW_8uS00Iv"
      },
      "execution_count": 8,
      "outputs": []
    },
    {
      "cell_type": "code",
      "source": [],
      "metadata": {
        "id": "9AIfwyl300NO"
      },
      "execution_count": 8,
      "outputs": []
    },
    {
      "cell_type": "code",
      "source": [],
      "metadata": {
        "id": "Xjd9wVLB00P_"
      },
      "execution_count": 8,
      "outputs": []
    }
  ]
}